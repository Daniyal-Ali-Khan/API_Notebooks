{
  "nbformat": 4,
  "nbformat_minor": 0,
  "metadata": {
    "colab": {
      "provenance": []
    },
    "kernelspec": {
      "name": "python3",
      "display_name": "Python 3"
    },
    "language_info": {
      "name": "python"
    }
  },
  "cells": [
    {
      "cell_type": "code",
      "execution_count": 1,
      "metadata": {
        "id": "P7tHIPC3szYV"
      },
      "outputs": [],
      "source": [
        "import requests"
      ]
    },
    {
      "cell_type": "code",
      "source": [
        "response = requests.get('https://randomuser.me/api')\n",
        "print(response.status_code)\n",
        "#connected successfully with API"
      ],
      "metadata": {
        "colab": {
          "base_uri": "https://localhost:8080/"
        },
        "id": "w0dDatAPx8wq",
        "outputId": "68ad0afd-f055-491b-8b26-ad38ca7a20c0"
      },
      "execution_count": 2,
      "outputs": [
        {
          "output_type": "stream",
          "name": "stdout",
          "text": [
            "200\n"
          ]
        }
      ]
    },
    {
      "cell_type": "code",
      "source": [
        "print(response.json())"
      ],
      "metadata": {
        "colab": {
          "base_uri": "https://localhost:8080/"
        },
        "id": "jZpyj8q4yTgM",
        "outputId": "11b6e7c6-c7f7-423e-f8af-3bbdd50f8401"
      },
      "execution_count": 3,
      "outputs": [
        {
          "output_type": "stream",
          "name": "stdout",
          "text": [
            "{'results': [{'gender': 'male', 'name': {'title': 'Mr', 'first': 'Simplício', 'last': 'da Mota'}, 'location': {'street': {'number': 7526, 'name': 'Rua Santa Rita '}, 'city': 'Araucária', 'state': 'Roraima', 'country': 'Brazil', 'postcode': 13255, 'coordinates': {'latitude': '-77.7196', 'longitude': '-114.0280'}, 'timezone': {'offset': '-8:00', 'description': 'Pacific Time (US & Canada)'}}, 'email': 'simplicio.damota@example.com', 'login': {'uuid': 'e42ca1d0-d362-4f1b-9aa5-23c4e3d10b60', 'username': 'redgoose239', 'password': 'nellie', 'salt': '1mAk8eRY', 'md5': '1ae14d8edd335706d008d3c010c8c2ce', 'sha1': '59774b5fe6c0bb58c665e58bb2966694020794ed', 'sha256': '3ce8ef0d5157e31ed60f6aa1303d4cd9c3214542dbc013caa6bc44be08b83090'}, 'dob': {'date': '1956-01-14T09:40:52.508Z', 'age': 68}, 'registered': {'date': '2018-05-29T20:39:52.766Z', 'age': 5}, 'phone': '(91) 8006-4016', 'cell': '(79) 3327-3089', 'id': {'name': 'CPF', 'value': '676.552.393-36'}, 'picture': {'large': 'https://randomuser.me/api/portraits/men/28.jpg', 'medium': 'https://randomuser.me/api/portraits/med/men/28.jpg', 'thumbnail': 'https://randomuser.me/api/portraits/thumb/men/28.jpg'}, 'nat': 'BR'}], 'info': {'seed': '80a17fa870611288', 'results': 1, 'page': 1, 'version': '1.4'}}\n"
          ]
        }
      ]
    },
    {
      "cell_type": "code",
      "source": [
        "gender = response.json()['results'][0]['gender']\n",
        "print(gender)"
      ],
      "metadata": {
        "colab": {
          "base_uri": "https://localhost:8080/"
        },
        "id": "TbL0ZERTyqBI",
        "outputId": "a74a9990-79e1-4860-81e5-1c31374c651f"
      },
      "execution_count": 8,
      "outputs": [
        {
          "output_type": "stream",
          "name": "stdout",
          "text": [
            "male\n"
          ]
        }
      ]
    },
    {
      "cell_type": "code",
      "source": [
        "first_name = response.json()['results'][0]['name']['first']\n",
        "print(first_name)"
      ],
      "metadata": {
        "colab": {
          "base_uri": "https://localhost:8080/"
        },
        "id": "zQZdgPqhzEs8",
        "outputId": "f2dddda0-bb3e-4004-9188-2929b5d0250f"
      },
      "execution_count": 10,
      "outputs": [
        {
          "output_type": "stream",
          "name": "stdout",
          "text": [
            "Simplício\n"
          ]
        }
      ]
    },
    {
      "cell_type": "code",
      "source": [
        "last_name = response.json()['results'][0]['name']['last']\n",
        "print(last_name)"
      ],
      "metadata": {
        "colab": {
          "base_uri": "https://localhost:8080/"
        },
        "id": "Dls1Cxg6zoK0",
        "outputId": "b750a78e-ac3f-457e-b281-f5e930a5d189"
      },
      "execution_count": 11,
      "outputs": [
        {
          "output_type": "stream",
          "name": "stdout",
          "text": [
            "da Mota\n"
          ]
        }
      ]
    },
    {
      "cell_type": "code",
      "source": [
        "print(f'{first_name} {last_name}')"
      ],
      "metadata": {
        "colab": {
          "base_uri": "https://localhost:8080/"
        },
        "id": "bowqpUSn0JPU",
        "outputId": "d4acf0c9-529c-4f33-d3a4-e0d09d1127fb"
      },
      "execution_count": 12,
      "outputs": [
        {
          "output_type": "stream",
          "name": "stdout",
          "text": [
            "Simplício da Mota\n"
          ]
        }
      ]
    },
    {
      "cell_type": "code",
      "source": [
        "print(f'{first_name} {last_name} {gender}')"
      ],
      "metadata": {
        "colab": {
          "base_uri": "https://localhost:8080/"
        },
        "id": "tC_VJch-0Uvj",
        "outputId": "ff3413c8-6cf3-4663-a035-b5aae697b4a4"
      },
      "execution_count": 13,
      "outputs": [
        {
          "output_type": "stream",
          "name": "stdout",
          "text": [
            "Simplício da Mota male\n"
          ]
        }
      ]
    },
    {
      "cell_type": "code",
      "source": [
        "title = response.json()['results'][0]['name']['title']"
      ],
      "metadata": {
        "id": "3y3jZaQq0czc"
      },
      "execution_count": 14,
      "outputs": []
    },
    {
      "cell_type": "code",
      "source": [
        "print(f'{title} {first_name} {last_name}')"
      ],
      "metadata": {
        "colab": {
          "base_uri": "https://localhost:8080/"
        },
        "id": "_5eH2ZNn1Vfz",
        "outputId": "d3170654-0e7c-42b2-9013-f31a09c1271b"
      },
      "execution_count": 15,
      "outputs": [
        {
          "output_type": "stream",
          "name": "stdout",
          "text": [
            "Mr Simplício da Mota\n"
          ]
        }
      ]
    },
    {
      "cell_type": "code",
      "source": [
        "age = response.json()['results'][0]['dob']['age']"
      ],
      "metadata": {
        "id": "uUsE_vrE1lzU"
      },
      "execution_count": 16,
      "outputs": []
    },
    {
      "cell_type": "code",
      "source": [
        "print(f'{title} {first_name} {last_name}')\n",
        "print(f'Age: {age}')"
      ],
      "metadata": {
        "colab": {
          "base_uri": "https://localhost:8080/"
        },
        "id": "j-LKGHaw10Gx",
        "outputId": "e946ea18-6a00-4c62-bcc8-b4aacf187c87"
      },
      "execution_count": 17,
      "outputs": [
        {
          "output_type": "stream",
          "name": "stdout",
          "text": [
            "Mr Simplício da Mota\n",
            "Age: 68\n"
          ]
        }
      ]
    },
    {
      "cell_type": "code",
      "source": [],
      "metadata": {
        "id": "skAZQmnC18QQ"
      },
      "execution_count": null,
      "outputs": []
    }
  ]
}